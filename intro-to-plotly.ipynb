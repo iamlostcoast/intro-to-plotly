{
 "cells": [
  {
   "cell_type": "markdown",
   "metadata": {},
   "source": [
    "# Intro to Plot.ly\n",
    "\n",
    "In this notebook, we'll run through how to get Plot.ly with Cufflinks running on your machine, and then go through a few examples of plots you can make.\n",
    "\n",
    "<img src=\"https://upload.wikimedia.org/wikipedia/commons/3/37/Plotly-logo-01-square.png\"></img>\n",
    "\n",
    "Plot.ly is really cool for a few reasons:\n",
    "1. All your plots save to your profile page, so when you make them it's really easy to reuse them for presentations and articles and dashboards.\n",
    "2. The plots are very interactive, unlike matplotlib/seaborn.\n",
    "3. There's plot types that aren't available in matplotlib\n",
    "\n",
    "Some drawbacks:\n",
    "1. With a free account, you only get 50 daily API calls.  When you make or edit a plot, you use one of those 50 calls.  That being said, I've never hit that limit.\n",
    "2.  With a free account, all your plots are public (you can have one private plot)."
   ]
  },
  {
   "cell_type": "markdown",
   "metadata": {},
   "source": [
    "# Table of Contents\n",
    "\n",
    "1. [Examples](#examples)\n",
    "2. [Installing Plot.ly](#installation)\n",
    "3. [Plotting the Iris Dataset](#iris)\n",
    "4. [Cufflinks](#cufflinks)\n",
    "5. [Geo](#geo)\n",
    "6. [Free Exploration](#exploring)"
   ]
  },
  {
   "cell_type": "markdown",
   "metadata": {},
   "source": [
    "<a id=\"examples\"></a>\n",
    "\n",
    "### Examples\n",
    "\n",
    "Plotly is awesome.  You can make plots like this:"
   ]
  },
  {
   "cell_type": "code",
   "execution_count": 3,
   "metadata": {},
   "outputs": [
    {
     "data": {
      "text/html": [
       "<iframe id=\"igraph\" scrolling=\"no\" style=\"border:none;\" seamless=\"seamless\" src=\"https://plot.ly/~Dreamshot/8698.embed\" height=\"525\" width=\"100%\"></iframe>"
      ],
      "text/plain": [
       "<plotly.tools.PlotlyDisplay object>"
      ]
     },
     "execution_count": 3,
     "metadata": {},
     "output_type": "execute_result"
    }
   ],
   "source": [
    "import plotly.tools as tls\n",
    "tls.embed('https://plot.ly/~Dreamshot/8698/')"
   ]
  },
  {
   "cell_type": "markdown",
   "metadata": {},
   "source": [
    "Or this (from my capstone):"
   ]
  },
  {
   "cell_type": "code",
   "execution_count": 4,
   "metadata": {},
   "outputs": [
    {
     "data": {
      "text/html": [
       "<iframe id=\"igraph\" scrolling=\"no\" style=\"border:none;\" seamless=\"seamless\" src=\"https://plot.ly/~ebaker12/28.embed\" height=\"525\" width=\"100%\"></iframe>"
      ],
      "text/plain": [
       "<plotly.tools.PlotlyDisplay object>"
      ]
     },
     "execution_count": 4,
     "metadata": {},
     "output_type": "execute_result"
    }
   ],
   "source": [
    "import plotly.tools as tls\n",
    "tls.embed('https://plot.ly/~ebaker12/28')"
   ]
  },
  {
   "cell_type": "markdown",
   "metadata": {},
   "source": [
    "and this:"
   ]
  },
  {
   "cell_type": "code",
   "execution_count": 5,
   "metadata": {},
   "outputs": [
    {
     "data": {
      "text/html": [
       "<iframe id=\"igraph\" scrolling=\"no\" style=\"border:none;\" seamless=\"seamless\" src=\"https://plot.ly/~ebaker12/38.embed\" height=\"525\" width=\"100%\"></iframe>"
      ],
      "text/plain": [
       "<plotly.tools.PlotlyDisplay object>"
      ]
     },
     "execution_count": 5,
     "metadata": {},
     "output_type": "execute_result"
    }
   ],
   "source": [
    "import plotly.tools as tls\n",
    "tls.embed('https://plot.ly/~ebaker12/38')"
   ]
  },
  {
   "cell_type": "markdown",
   "metadata": {},
   "source": [
    "<a id=\"installation\"></a>\n",
    "\n",
    "### Installing Plotly\n",
    "\n",
    "There's a guide you can find here (https://plot.ly/python/getting-started/) , but I'll also outline the steps below:\n",
    "\n",
    "1. Make a free account for Plot.ly\n",
    "2. pip install plotly\n",
    "3. pip install cufflinks\n",
    "4. Run the code nelow, but using your plotly profile name and API key:"
   ]
  },
  {
   "cell_type": "code",
   "execution_count": null,
   "metadata": {
    "collapsed": true
   },
   "outputs": [],
   "source": [
    "import plotly\n",
    "plotly.tools.set_credentials_file(username='DemoAccount', api_key='lr1c37zw81')"
   ]
  },
  {
   "cell_type": "markdown",
   "metadata": {},
   "source": [
    "You'll need to replace 'DemoAccount' and 'lr1c37zw81' with your Plotly username and API key.\n",
    "Find your API key here. \n",
    "\n",
    "The initialization step places a special .plotly/.credentials file in your home directory. Your ~/.plotly/.credentials file should look something like this:"
   ]
  },
  {
   "cell_type": "code",
   "execution_count": null,
   "metadata": {
    "collapsed": true
   },
   "outputs": [],
   "source": [
    "{\n",
    "    \"username\": \"DemoAccount\",\n",
    "    \"stream_ids\": [\"ylosqsyet5\", \"h2ct8btk1s\", \"oxz4fm883b\"],\n",
    "    \"api_key\": \"lr1c37zw81\"\n",
    "}"
   ]
  },
  {
   "cell_type": "markdown",
   "metadata": {},
   "source": [
    "<a id=\"iris\"></a>\n",
    "\n",
    "### Plotting the Iris Dataset\n",
    "\n",
    "Let's use the Iris Data set to make some simple plots. We'll start off with a 3D scatter plot.\n",
    "\n",
    "Info on how to do this can be found here: https://plot.ly/python/3d-scatter-plots/"
   ]
  },
  {
   "cell_type": "code",
   "execution_count": 13,
   "metadata": {},
   "outputs": [],
   "source": [
    "import pandas as pd\n",
    "import numpy as np\n",
    "from sklearn.datasets import load_iris\n",
    "import cufflinks # this will allow us to sink directly with pandas, and to show plots inline.\n",
    "import plotly.plotly as py\n",
    "import plotly.graph_objs as go"
   ]
  },
  {
   "cell_type": "code",
   "execution_count": 9,
   "metadata": {},
   "outputs": [
    {
     "name": "stdout",
     "output_type": "stream",
     "text": [
      "<class 'pandas.core.frame.DataFrame'>\n",
      "RangeIndex: 150 entries, 0 to 149\n",
      "Data columns (total 4 columns):\n",
      "sepal length (cm)    150 non-null float64\n",
      "sepal width (cm)     150 non-null float64\n",
      "petal length (cm)    150 non-null float64\n",
      "petal width (cm)     150 non-null float64\n",
      "dtypes: float64(4)\n",
      "memory usage: 4.8 KB\n"
     ]
    }
   ],
   "source": [
    "iris = load_iris()\n",
    "df = pd.DataFrame(iris.data, columns=iris.feature_names)\n",
    "df.info()"
   ]
  },
  {
   "cell_type": "code",
   "execution_count": 10,
   "metadata": {
    "collapsed": true
   },
   "outputs": [],
   "source": [
    "breeds = iris.target"
   ]
  },
  {
   "cell_type": "code",
   "execution_count": 11,
   "metadata": {},
   "outputs": [],
   "source": [
    "df.columns = [c.replace(\" \", \"_\") for c in df.columns]"
   ]
  },
  {
   "cell_type": "code",
   "execution_count": 14,
   "metadata": {},
   "outputs": [
    {
     "data": {
      "text/html": [
       "<iframe id=\"igraph\" scrolling=\"no\" style=\"border:none;\" seamless=\"seamless\" src=\"https://plot.ly/~ebaker12/46.embed\" height=\"525px\" width=\"100%\"></iframe>"
      ],
      "text/plain": [
       "<plotly.tools.PlotlyDisplay object>"
      ]
     },
     "execution_count": 14,
     "metadata": {},
     "output_type": "execute_result"
    }
   ],
   "source": [
    "x = df['sepal_width_(cm)']\n",
    "y = df['sepal_length_(cm)']\n",
    "z = df['petal_width_(cm)']\n",
    "\n",
    "# In the Graph Objects (go) module, we can pull in different types of charts and set their parameters\n",
    "\n",
    "# We'll call the Scatter3d class\n",
    "trace1 = go.Scatter3d(\n",
    "    x=x,\n",
    "    y=y,\n",
    "    z=z,\n",
    "    mode='markers',\n",
    "    marker=dict(\n",
    "        size=12,\n",
    "        color=breeds,                # we'll color the points by their breed\n",
    "        colorscale='Viridis',        # choose a colorscale\n",
    "        opacity=0.8\n",
    "    )\n",
    ")\n",
    "\n",
    "data = [trace1]\n",
    "\n",
    "# We can control the way the plot looks with the go.Layout class\n",
    "layout = go.Layout(\n",
    "    margin=dict(\n",
    "        l=0,\n",
    "        r=0,\n",
    "        b=0,\n",
    "        t=0\n",
    "    )\n",
    ")\n",
    "fig = go.Figure(data=data, layout=layout)\n",
    "\n",
    "# We specify filename for keeping track of the plot on your plotly profile\n",
    "py.iplot(fig, filename='3d-scatter-iris')"
   ]
  },
  {
   "cell_type": "markdown",
   "metadata": {},
   "source": [
    "While this is well and good, let's format it better.  I'd like to make it so we can hover over each point and see the breed, and also see what the x, y, and z axes actually are."
   ]
  },
  {
   "cell_type": "code",
   "execution_count": 17,
   "metadata": {},
   "outputs": [],
   "source": [
    "# We'll add the names of each axis to the layout to add them to the plot\n",
    "\n",
    "layout = go.Layout( scene = dict(\n",
    "                    xaxis = dict(\n",
    "                        title='sepal_width_(cm)'),\n",
    "                    yaxis = dict(\n",
    "                        title='sepal_length_(cm)'),\n",
    "                    zaxis = dict(\n",
    "                        title='petal_width_(cm)')),\n",
    "                    width=700,\n",
    "                    margin=dict(\n",
    "                    r=20, b=10,\n",
    "                    l=10, t=10))"
   ]
  },
  {
   "cell_type": "code",
   "execution_count": 33,
   "metadata": {},
   "outputs": [
    {
     "data": {
      "text/html": [
       "<iframe id=\"igraph\" scrolling=\"no\" style=\"border:none;\" seamless=\"seamless\" src=\"https://plot.ly/~ebaker12/46.embed\" height=\"525px\" width=\"700px\"></iframe>"
      ],
      "text/plain": [
       "<plotly.tools.PlotlyDisplay object>"
      ]
     },
     "execution_count": 33,
     "metadata": {},
     "output_type": "execute_result"
    }
   ],
   "source": [
    "# And we can add a \"text\" field to the trace to see text when we hover over points\n",
    "\n",
    "# Let's make a dictionary so we can match breed names for the text\n",
    "target_names_dict = {i: breed for i, breed in enumerate(iris.target_names)}\n",
    "\n",
    "# Now we'll map those to a list of the breed names\n",
    "breed_names = [target_names_dict[num] for num in breeds]\n",
    "text = ['Breed: %s' % breed for breed in breed_names]\n",
    "\n",
    "trace1 = go.Scatter3d(\n",
    "    x=x,\n",
    "    y=y,\n",
    "    z=z,\n",
    "    mode='markers',\n",
    "    # Adding text to the graph objects scatter3d class\n",
    "    text = text,\n",
    "    marker=dict(\n",
    "        size=12,\n",
    "        color=breeds,             \n",
    "        colorscale='Viridis', \n",
    "        opacity=0.8,\n",
    "    )\n",
    ")\n",
    "\n",
    "data=[trace1]\n",
    "\n",
    "fig = go.Figure(data=data, layout=layout)\n",
    "py.iplot(fig, filename='3d-scatter-iris')"
   ]
  },
  {
   "cell_type": "markdown",
   "metadata": {},
   "source": [
    "<a id=\"cufflinks\"></a>\n",
    "\n",
    "### Cufflinks\n",
    "\n",
    "With cufflinks, we can do this straight onto a dataframe, by calling the iplot method.  This works very similar to calling the .plot method on a dataframe.\n",
    "\n",
    "Here are some examples of the \"kind\" of charts we can pull this way:\n",
    "\n",
    "- scatter\n",
    "- bar\n",
    "- box\n",
    "- spread\n",
    "- ratio\n",
    "- heatmap\n",
    "- surface\n",
    "- histogram\n",
    "- bubble\n",
    "- bubble3d\n",
    "- scatter3d       \n",
    "- scattergeo\n",
    "- choroplet "
   ]
  },
  {
   "cell_type": "code",
   "execution_count": 49,
   "metadata": {},
   "outputs": [
    {
     "data": {
      "text/html": [
       "<iframe id=\"igraph\" scrolling=\"no\" style=\"border:none;\" seamless=\"seamless\" src=\"https://plot.ly/~ebaker12/50.embed\" height=\"525px\" width=\"100%\"></iframe>"
      ],
      "text/plain": [
       "<plotly.tools.PlotlyDisplay object>"
      ]
     },
     "execution_count": 49,
     "metadata": {},
     "output_type": "execute_result"
    }
   ],
   "source": [
    "# Let's make some simple plots using cufflinks and the iris dataet\n",
    "\n",
    "# We just call the iplot method on our dataframe after importing cufflinks and then specify what kind of graph we\n",
    "# want\n",
    "\n",
    "df.iplot(kind='box', filename=\"cufflinks_boxplot_iris\")"
   ]
  },
  {
   "cell_type": "code",
   "execution_count": 63,
   "metadata": {
    "collapsed": true
   },
   "outputs": [],
   "source": [
    "# Let's do a bar plot showing different mean values by breed\n",
    "\n",
    "# with cufflinks we do this almost exactly as how we would with matplotlib\n",
    "\n",
    "df['breed'] = breed_names"
   ]
  },
  {
   "cell_type": "markdown",
   "metadata": {},
   "source": [
    "Matplotlib: "
   ]
  },
  {
   "cell_type": "code",
   "execution_count": 64,
   "metadata": {},
   "outputs": [
    {
     "data": {
      "text/plain": [
       "<matplotlib.axes._subplots.AxesSubplot at 0x113b2b290>"
      ]
     },
     "execution_count": 64,
     "metadata": {},
     "output_type": "execute_result"
    },
    {
     "data": {
      "image/png": "[encoded data removed]",
      "text/plain": [
       "<matplotlib.figure.Figure at 0x112715cd0>"
      ]
     },
     "metadata": {},
     "output_type": "display_data"
    }
   ],
   "source": [
    "%matplotlib inline\n",
    "\n",
    "df.groupby('breed').mean().plot(kind='bar')"
   ]
  },
  {
   "cell_type": "markdown",
   "metadata": {},
   "source": [
    "Plot.ly:"
   ]
  },
  {
   "cell_type": "code",
   "execution_count": 65,
   "metadata": {},
   "outputs": [
    {
     "data": {
      "text/html": [
       "<iframe id=\"igraph\" scrolling=\"no\" style=\"border:none;\" seamless=\"seamless\" src=\"https://plot.ly/~ebaker12/52.embed\" height=\"525px\" width=\"100%\"></iframe>"
      ],
      "text/plain": [
       "<plotly.tools.PlotlyDisplay object>"
      ]
     },
     "execution_count": 65,
     "metadata": {},
     "output_type": "execute_result"
    }
   ],
   "source": [
    "df.groupby('breed').mean().iplot(kind='bar', filename=\"cufflinks_bar_iris\")"
   ]
  },
  {
   "cell_type": "markdown",
   "metadata": {},
   "source": [
    "There's almost no difference with how we call the graph from matplotlib.  There are many things that we can tweak in the chart, but it looks pretty good often by calling the defaults.\n",
    "\n",
    "In my experience, you can get more granular control over the appearance of your plots by using the Graph Objects classes as opposed to using cufflinks straight on your dataframe, in the same way that you get more control by calling seaborn and matplotlib objects than by using the .plot method."
   ]
  },
  {
   "cell_type": "markdown",
   "metadata": {},
   "source": [
    "<a id=\"geo\"></a>\n",
    "\n",
    "### Geographic Plotting\n",
    "\n",
    "Something that I've found plot.ly is great for is mapping.  Let's explore that here and try making some maps.\n",
    "\n",
    "Resource: https://plot.ly/python/bubble-maps/"
   ]
  },
  {
   "cell_type": "code",
   "execution_count": 66,
   "metadata": {},
   "outputs": [
    {
     "data": {
      "text/html": [
       "<div>\n",
       "<table border=\"1\" class=\"dataframe\">\n",
       "  <thead>\n",
       "    <tr style=\"text-align: right;\">\n",
       "      <th></th>\n",
       "      <th>name</th>\n",
       "      <th>pop</th>\n",
       "      <th>lat</th>\n",
       "      <th>lon</th>\n",
       "    </tr>\n",
       "  </thead>\n",
       "  <tbody>\n",
       "    <tr>\n",
       "      <th>0</th>\n",
       "      <td>New York</td>\n",
       "      <td>8287238</td>\n",
       "      <td>40.730599</td>\n",
       "      <td>-73.986581</td>\n",
       "    </tr>\n",
       "    <tr>\n",
       "      <th>1</th>\n",
       "      <td>Los Angeles</td>\n",
       "      <td>3826423</td>\n",
       "      <td>34.053717</td>\n",
       "      <td>-118.242727</td>\n",
       "    </tr>\n",
       "    <tr>\n",
       "      <th>2</th>\n",
       "      <td>Chicago</td>\n",
       "      <td>2705627</td>\n",
       "      <td>41.875555</td>\n",
       "      <td>-87.624421</td>\n",
       "    </tr>\n",
       "    <tr>\n",
       "      <th>3</th>\n",
       "      <td>Houston</td>\n",
       "      <td>2129784</td>\n",
       "      <td>29.758938</td>\n",
       "      <td>-95.367697</td>\n",
       "    </tr>\n",
       "    <tr>\n",
       "      <th>4</th>\n",
       "      <td>Philadelphia</td>\n",
       "      <td>1539313</td>\n",
       "      <td>39.952335</td>\n",
       "      <td>-75.163789</td>\n",
       "    </tr>\n",
       "  </tbody>\n",
       "</table>\n",
       "</div>"
      ],
      "text/plain": [
       "            name      pop        lat         lon\n",
       "0      New York   8287238  40.730599  -73.986581\n",
       "1   Los Angeles   3826423  34.053717 -118.242727\n",
       "2       Chicago   2705627  41.875555  -87.624421\n",
       "3       Houston   2129784  29.758938  -95.367697\n",
       "4  Philadelphia   1539313  39.952335  -75.163789"
      ]
     },
     "execution_count": 66,
     "metadata": {},
     "output_type": "execute_result"
    }
   ],
   "source": [
    "# Let's read in some plotly data on populations of cities\n",
    "\n",
    "df = pd.read_csv('https://raw.githubusercontent.com/plotly/datasets/master/2014_us_cities.csv')\n",
    "df.head()"
   ]
  },
  {
   "cell_type": "markdown",
   "metadata": {},
   "source": [
    "To do geographic plotting in Plot.ly, you'll need to have latitutde longitude coordinates for your points.  I'll put a csv that maps zipcodes to lat/lon coordinates in the repo for this notebook."
   ]
  },
  {
   "cell_type": "code",
   "execution_count": 68,
   "metadata": {},
   "outputs": [
    {
     "data": {
      "text/html": [
       "<iframe id=\"igraph\" scrolling=\"no\" style=\"border:none;\" seamless=\"seamless\" src=\"https://plot.ly/~ebaker12/6.embed\" height=\"525px\" width=\"100%\"></iframe>"
      ],
      "text/plain": [
       "<plotly.tools.PlotlyDisplay object>"
      ]
     },
     "execution_count": 68,
     "metadata": {},
     "output_type": "execute_result"
    }
   ],
   "source": [
    "# We'll add a text column to the dataframe that will get used for hover over information\n",
    "df['text'] = df['name'] + '<br>Population ' + (df['pop']/1e6).astype(str)+' million'\n",
    "\n",
    "# Setting up bins to color the bubbles on the plot by population group\n",
    "limits = [(0,2),(3,10),(11,20),(21,50),(50,3000)]\n",
    "\n",
    "colors = [\"rgb(0,116,217)\",\"rgb(255,65,54)\",\"rgb(133,20,75)\",\"rgb(255,133,27)\",\"lightgrey\"]\n",
    "cities = []\n",
    "scale = 5000\n",
    "\n",
    "# We'll look through the bins and create a new trace for each \n",
    "for i, lim in enumerate(limits):\n",
    "    \n",
    "    # Creating a sub dataframe that's just the data for this bin\n",
    "    df_sub = df[lim[0]:lim[1]]\n",
    "    \n",
    "    # As opposed to calling a new Graph Object, we can just specify the data in a dictionary\n",
    "    city = dict(\n",
    "        type = 'scattergeo',\n",
    "        locationmode = 'USA-states',\n",
    "        lon = df_sub['lon'],\n",
    "        lat = df_sub['lat'],\n",
    "        text = df_sub['text'],\n",
    "        marker = dict(\n",
    "            size = df_sub['pop']/scale,\n",
    "            color = colors[i],\n",
    "            line = dict(width=0.5, color='rgb(40,40,40)'),\n",
    "            sizemode = 'area'\n",
    "        ),\n",
    "        name = '{0} - {1}'.format(lim[0],lim[1]) )\n",
    "    cities.append(city)\n",
    "\n",
    "layout = dict(\n",
    "        title = '2014 US city populations<br>(Click legend to toggle traces)',\n",
    "        showlegend = True,\n",
    "        geo = dict(\n",
    "            scope='usa',\n",
    "            projection=dict( type='albers usa' ),\n",
    "            showland = True,\n",
    "            landcolor = 'rgb(217, 217, 217)',\n",
    "            subunitwidth=1,\n",
    "            countrywidth=1,\n",
    "            subunitcolor=\"rgb(255, 255, 255)\",\n",
    "            countrycolor=\"rgb(255, 255, 255)\"\n",
    "        ),\n",
    "    )\n",
    "\n",
    "fig = dict( data=cities, layout=layout )\n",
    "<a id=\"geo\"></a>py.iplot( fig, validate=False, filename='d3-bubble-map-populations' )"
   ]
  },
  {
   "cell_type": "markdown",
   "metadata": {},
   "source": [
    "<a id=\"exploring\"></a>\n",
    "\n",
    "### Exploring\n",
    "\n",
    "Do you have any ideas for plots you want to try?  Let's give them a shot!!\n",
    "\n",
    "In general, I find a good technique is to simply check out the plot.ly docs for examples of different types of plots, and modify the existing code to suit your needs."
   ]
  }
 ],
 "metadata": {
  "kernelspec": {
   "display_name": "Python 2",
   "language": "python",
   "name": "python2"
  },
  "language_info": {
   "codemirror_mode": {
    "name": "ipython",
    "version": 2
   },
   "file_extension": ".py",
   "mimetype": "text/x-python",
   "name": "python",
   "nbconvert_exporter": "python",
   "pygments_lexer": "ipython2",
   "version": "2.7.12"
  }
 },
 "nbformat": 4,
 "nbformat_minor": 2
}
